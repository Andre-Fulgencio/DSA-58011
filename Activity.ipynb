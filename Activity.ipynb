{
  "nbformat": 4,
  "nbformat_minor": 0,
  "metadata": {
    "colab": {
      "provenance": [],
      "authorship_tag": "ABX9TyNAQCWzqrt3ub3PsxBhkhNu",
      "include_colab_link": true
    },
    "kernelspec": {
      "name": "python3",
      "display_name": "Python 3"
    },
    "language_info": {
      "name": "python"
    }
  },
  "cells": [
    {
      "cell_type": "markdown",
      "metadata": {
        "id": "view-in-github",
        "colab_type": "text"
      },
      "source": [
        "<a href=\"https://colab.research.google.com/github/Andre-Fulgencio/DSA-58011/blob/main/Activity.ipynb\" target=\"_parent\"><img src=\"https://colab.research.google.com/assets/colab-badge.svg\" alt=\"Open In Colab\"/></a>"
      ]
    },
    {
      "cell_type": "code",
      "execution_count": 1,
      "metadata": {
        "colab": {
          "base_uri": "https://localhost:8080/"
        },
        "id": "t3QzybF-cPbk",
        "outputId": "8f56312a-47a8-46de-c383-f932f1be8340"
      },
      "outputs": [
        {
          "output_type": "stream",
          "name": "stdout",
          "text": [
            "First element: 1\n",
            "Second element: 2\n",
            "Third element: 3\n",
            "Fourth element: 4\n",
            "Fifth element: 5\n",
            "Sixth element: 6\n",
            "Seventh element: 7\n",
            "Eighth element: 8\n",
            "Ninth element: 9\n",
            "Tenth element: 0\n",
            "Sum of the array is:  45\n"
          ]
        }
      ],
      "source": [
        "import array as arr\n",
        "a = arr.array('i', [1,2,3,4,5,6,7,8,9,0])\n",
        "\n",
        "print(\"First element:\", a[0])\n",
        "print(\"Second element:\", a[1])\n",
        "print(\"Third element:\", a[2])\n",
        "print(\"Fourth element:\", a[3])\n",
        "print(\"Fifth element:\", a[4])\n",
        "print(\"Sixth element:\", a[5])\n",
        "print(\"Seventh element:\", a[6])\n",
        "print(\"Eighth element:\", a[7])\n",
        "print(\"Ninth element:\", a[8])\n",
        "print(\"Tenth element:\", a[9])\n",
        "\n",
        "def _sum(arr):\n",
        "    sum = 0\n",
        "    for i in arr:\n",
        "        sum = sum + i\n",
        "    return(sum)\n",
        "arr = []\n",
        "arr = [1,2,3,4,5,6,7,8,9,0]\n",
        "n = len(arr)\n",
        "ans = _sum(arr)\n",
        "print('Sum of the array is: ', ans)"
      ]
    },
    {
      "cell_type": "code",
      "source": [
        "import array as arr\n",
        "\n",
        "a = arr.array('i', [1,2,3,4,5,6,7,8,9,10])\n",
        " \n",
        "print (\"Array before insertion : \", end =\" \")\n",
        "for i in range (0, 10):\n",
        "    print (a[i], end =\" \")\n",
        "print()\n",
        "\n",
        "a.insert(10, 11)\n",
        " \n",
        "print (\"Array after insertion : \", end =\" \")\n",
        "for i in (a):\n",
        "    print (i, end =\" \")\n",
        "print()"
      ],
      "metadata": {
        "colab": {
          "base_uri": "https://localhost:8080/"
        },
        "id": "VfMbzDRPc4e0",
        "outputId": "f6715ce9-2e0a-419b-d449-f53e07f1d934"
      },
      "execution_count": 2,
      "outputs": [
        {
          "output_type": "stream",
          "name": "stdout",
          "text": [
            "Array before insertion :  1 2 3 4 5 6 7 8 9 10 \n",
            "Array after insertion :  1 2 3 4 5 6 7 8 9 10 11 \n"
          ]
        }
      ]
    },
    {
      "cell_type": "code",
      "source": [
        "import array as arr\n",
        "\n",
        "a = arr.array('i', [1,2,3,4,5,6,7,8,9,10])\n",
        " \n",
        "print (\"Array before insertion : \", end =\" \")\n",
        "for i in range (0, 10):\n",
        "    print (a[i], end =\" \")\n",
        "print()\n",
        "\n",
        "a.insert(1, 11)\n",
        " \n",
        "print (\"Array after insertion : \", end =\" \")\n",
        "for i in (a):\n",
        "    print (i, end =\" \")\n",
        "print()"
      ],
      "metadata": {
        "colab": {
          "base_uri": "https://localhost:8080/"
        },
        "id": "Ht7yvMunc9Gm",
        "outputId": "3d7b659b-4a47-48ea-b4f7-32ab3b208b9d"
      },
      "execution_count": 3,
      "outputs": [
        {
          "output_type": "stream",
          "name": "stdout",
          "text": [
            "Array before insertion :  1 2 3 4 5 6 7 8 9 10 \n",
            "Array after insertion :  1 11 2 3 4 5 6 7 8 9 10 \n"
          ]
        }
      ]
    },
    {
      "cell_type": "code",
      "source": [
        "arr = [1,2,3,4,5]\n",
        "print(\"Original Array :\",arr)\n",
        " \n",
        "res = arr[::-1]\n",
        "print(\"Reversed Array :\",res)"
      ],
      "metadata": {
        "colab": {
          "base_uri": "https://localhost:8080/"
        },
        "id": "zeWNJDPcdGjR",
        "outputId": "b656a1f7-6580-45d3-8d0d-1913a06fcfeb"
      },
      "execution_count": 4,
      "outputs": [
        {
          "output_type": "stream",
          "name": "stdout",
          "text": [
            "Original Array : [1, 2, 3, 4, 5]\n",
            "Reversed Array : [5, 4, 3, 2, 1]\n"
          ]
        }
      ]
    },
    {
      "cell_type": "code",
      "source": [
        "from operator import length_hint \n",
        "inp_lst = [5,4,3,2,1]\n",
        "print(\"Length of the array:\")\n",
        "size = length_hint(inp_lst)\n",
        "print(size)"
      ],
      "metadata": {
        "colab": {
          "base_uri": "https://localhost:8080/"
        },
        "id": "PZ0qPupCdLyQ",
        "outputId": "d264fe39-ed46-4934-ec4b-2ad25ea7ee3d"
      },
      "execution_count": 5,
      "outputs": [
        {
          "output_type": "stream",
          "name": "stdout",
          "text": [
            "Length of the array:\n",
            "5\n"
          ]
        }
      ]
    }
  ]
}