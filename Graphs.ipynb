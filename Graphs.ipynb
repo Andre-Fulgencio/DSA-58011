{
  "nbformat": 4,
  "nbformat_minor": 0,
  "metadata": {
    "colab": {
      "provenance": [],
      "authorship_tag": "ABX9TyPVw5lzvQAOIf2J0Cw30kH+",
      "include_colab_link": true
    },
    "kernelspec": {
      "name": "python3",
      "display_name": "Python 3"
    },
    "language_info": {
      "name": "python"
    }
  },
  "cells": [
    {
      "cell_type": "markdown",
      "metadata": {
        "id": "view-in-github",
        "colab_type": "text"
      },
      "source": [
        "<a href=\"https://colab.research.google.com/github/Andre-Fulgencio/DSA-58011/blob/main/Graphs.ipynb\" target=\"_parent\"><img src=\"https://colab.research.google.com/assets/colab-badge.svg\" alt=\"Open In Colab\"/></a>"
      ]
    },
    {
      "cell_type": "code",
      "execution_count": 1,
      "metadata": {
        "colab": {
          "base_uri": "https://localhost:8080/"
        },
        "id": "17EOC0jBkkEl",
        "outputId": "c8e7ed7d-ec7d-4bda-8806-6a7c8246f180"
      },
      "outputs": [
        {
          "output_type": "stream",
          "name": "stdout",
          "text": [
            "{'2': ['1', '4'], '3': ['3', '4'], '1': ['4']}\n"
          ]
        }
      ],
      "source": [
        "g20 = {\n",
        "    '2':['1','4'],\n",
        "    '3':['3','4'],\n",
        "    '1':['4'],\n",
        "\n",
        "}\n",
        "print(g20)\n",
        "\n",
        "V = {1,2,3,4}\n",
        "E= {'2': ['1', '4'], '3': ['3', '4'], '1': ['4']}"
      ]
    },
    {
      "cell_type": "code",
      "source": [
        "graph = {\n",
        "    'a':['b','c'],\n",
        "    'b':['a','d'],\n",
        "    'c':['a','d'],\n",
        "    'd':['b','c','e'],\n",
        "    'e':['e']\n",
        "\n",
        "}\n",
        "print(graph)"
      ],
      "metadata": {
        "id": "2Z_zkVJ6kzrV",
        "outputId": "547ded28-c246-4d4e-b352-41fe9eac43a0",
        "colab": {
          "base_uri": "https://localhost:8080/"
        }
      },
      "execution_count": 2,
      "outputs": [
        {
          "output_type": "stream",
          "name": "stdout",
          "text": [
            "{'a': ['b', 'c'], 'b': ['a', 'd'], 'c': ['a', 'd'], 'd': ['b', 'c', 'e'], 'e': ['e']}\n"
          ]
        }
      ]
    }
  ]
}