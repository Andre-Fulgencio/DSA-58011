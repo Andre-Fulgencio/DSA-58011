{
  "nbformat": 4,
  "nbformat_minor": 0,
  "metadata": {
    "colab": {
      "provenance": [],
      "authorship_tag": "ABX9TyNPba/E1sDkbn3/K4ebGGAS",
      "include_colab_link": true
    },
    "kernelspec": {
      "name": "python3",
      "display_name": "Python 3"
    },
    "language_info": {
      "name": "python"
    }
  },
  "cells": [
    {
      "cell_type": "markdown",
      "metadata": {
        "id": "view-in-github",
        "colab_type": "text"
      },
      "source": [
        "<a href=\"https://colab.research.google.com/github/Andre-Fulgencio/DSA-58011/blob/main/Long_Quiz_1.ipynb\" target=\"_parent\"><img src=\"https://colab.research.google.com/assets/colab-badge.svg\" alt=\"Open In Colab\"/></a>"
      ]
    },
    {
      "cell_type": "markdown",
      "source": [
        "Array"
      ],
      "metadata": {
        "id": "lGezlXhWO12k"
      }
    },
    {
      "cell_type": "code",
      "source": [
        "import re\n",
        "def Check_Vow(string, vowels):\n",
        "     \n",
        "    str_list = re.findall(f'[{vowels}]', string, re.I)\n",
        "     \n",
        "    print(len(str_list))\n",
        "     \n",
        "    return str_list\n",
        "     \n",
        "vowels = 'aeiou'\n",
        "string = \"ANDRE ISAAC CORPUS FULGENCIO\"\n",
        "print (Check_Vow(string, vowels))"
      ],
      "metadata": {
        "colab": {
          "base_uri": "https://localhost:8080/"
        },
        "id": "tWMV40wKO5lz",
        "outputId": "f219d36f-901c-4e1d-eeb5-7ccec38cbc7c"
      },
      "execution_count": 3,
      "outputs": [
        {
          "output_type": "stream",
          "name": "stdout",
          "text": [
            "11\n",
            "['A', 'E', 'I', 'A', 'A', 'O', 'U', 'U', 'E', 'I', 'O']\n"
          ]
        }
      ]
    }
  ]
}