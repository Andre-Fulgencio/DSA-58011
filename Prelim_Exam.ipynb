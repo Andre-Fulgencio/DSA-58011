{
  "nbformat": 4,
  "nbformat_minor": 0,
  "metadata": {
    "colab": {
      "provenance": [],
      "authorship_tag": "ABX9TyOrA4ygo6FlTLrt4UJM6t7s",
      "include_colab_link": true
    },
    "kernelspec": {
      "name": "python3",
      "display_name": "Python 3"
    },
    "language_info": {
      "name": "python"
    }
  },
  "cells": [
    {
      "cell_type": "markdown",
      "metadata": {
        "id": "view-in-github",
        "colab_type": "text"
      },
      "source": [
        "<a href=\"https://colab.research.google.com/github/Andre-Fulgencio/DSA-58011/blob/main/Prelim_Exam.ipynb\" target=\"_parent\"><img src=\"https://colab.research.google.com/assets/colab-badge.svg\" alt=\"Open In Colab\"/></a>"
      ]
    },
    {
      "cell_type": "markdown",
      "source": [
        "1. Choose Array or Linked-List data structure\n",
        "2. Create a python program that appends all composite integers less than 10 but greater than 1 and counts the number of composite\n",
        "3. Save your program as  \"Prelim Exam\" to you GitHub\n",
        "4. Send the link address of GitHub too the Prelim Exam folder (BlackBoard)"
      ],
      "metadata": {
        "id": "YjgoPUBGcgr6"
      }
    },
    {
      "cell_type": "code",
      "execution_count": 11,
      "metadata": {
        "colab": {
          "base_uri": "https://localhost:8080/"
        },
        "id": "zH5bAR7BYN44",
        "outputId": "0ec09ce2-a416-45c7-b133-0daf6c58cb61"
      },
      "outputs": [
        {
          "output_type": "stream",
          "name": "stdout",
          "text": [
            "First element: 1\n",
            "Second element: 2\n",
            "Third element: 3\n",
            "Fourth element: 4\n",
            "Fifth element: 5\n",
            "Sixth element: 6\n",
            "Seventh element: 7\n",
            "Eighth element: 8\n",
            "Ninth element: 9\n",
            "Tenth element: 10\n",
            "Sum of the array is:  55\n"
          ]
        }
      ],
      "source": [
        "import array as arr\n",
        "a = arr.array('i', [1,2,3,4,5,6,7,8,9,10])\n",
        "\n",
        "print(\"First element:\", a[0])\n",
        "print(\"Second element:\", a[1])\n",
        "print(\"Third element:\", a[2])\n",
        "print(\"Fourth element:\", a[3])\n",
        "print(\"Fifth element:\", a[4])\n",
        "print(\"Sixth element:\", a[5])\n",
        "print(\"Seventh element:\", a[6])\n",
        "print(\"Eighth element:\", a[7])\n",
        "print(\"Ninth element:\", a[8])\n",
        "print(\"Tenth element:\", a[9])\n",
        "\n",
        "def _sum(arr):\n",
        "    sum = 0\n",
        "    for i in arr:\n",
        "        sum = sum + i\n",
        "    return(sum)\n",
        "arr = []\n",
        "arr = [1,2,3,4,5,6,7,8,9,10]\n",
        "n = len(arr)\n",
        "ans = _sum(arr)\n",
        "print('Sum of the array is: ', ans)"
      ]
    }
  ]
}